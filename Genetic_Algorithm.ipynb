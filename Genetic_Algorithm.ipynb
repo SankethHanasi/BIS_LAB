{
  "nbformat": 4,
  "nbformat_minor": 0,
  "metadata": {
    "colab": {
      "provenance": [],
      "authorship_tag": "ABX9TyOd+8ljORSk+DtEW69TF2uN",
      "include_colab_link": true
    },
    "kernelspec": {
      "name": "python3",
      "display_name": "Python 3"
    },
    "language_info": {
      "name": "python"
    }
  },
  "cells": [
    {
      "cell_type": "markdown",
      "metadata": {
        "id": "view-in-github",
        "colab_type": "text"
      },
      "source": [
        "<a href=\"https://colab.research.google.com/github/SankethHanasi/BIS_LAB/blob/main/Genetic_Algorithm.ipynb\" target=\"_parent\"><img src=\"https://colab.research.google.com/assets/colab-badge.svg\" alt=\"Open In Colab\"/></a>"
      ]
    },
    {
      "cell_type": "code",
      "execution_count": null,
      "metadata": {
        "colab": {
          "base_uri": "https://localhost:8080/"
        },
        "id": "kF92bGZuJnhJ",
        "outputId": "b62c78f9-8baa-4d5a-fa77-6d6f2b3f05cd"
      },
      "outputs": [
        {
          "output_type": "stream",
          "name": "stdout",
          "text": [
            "Best solution: x = 9.5644631211605, f(x) = 91.47895479603926\n"
          ]
        }
      ],
      "source": [
        "import random\n",
        "\n",
        "def fitness_function(x):\n",
        "    return x ** 2\n",
        "\n",
        "def initialize_population(size, lower_bound, upper_bound):\n",
        "    return [random.uniform(lower_bound, upper_bound) for _ in range(size)]\n",
        "\n",
        "def roulette_wheel_selection(population):\n",
        "    total_fitness = sum(fitness_function(x) for x in population)\n",
        "    selection_probs = [fitness_function(x) / total_fitness for x in population]\n",
        "    cumulative_probs = [sum(selection_probs[:i+1]) for i in range(len(selection_probs))]\n",
        "\n",
        "    random_value = random.uniform(0, 1)\n",
        "    for i, cumulative in enumerate(cumulative_probs):\n",
        "        if random_value <= cumulative:\n",
        "            return population[i]\n",
        "\n",
        "def crossover(parent1, parent2):\n",
        "    return (parent1 + parent2) / 2  # Simple average crossover\n",
        "\n",
        "def mutate(x, mutation_rate):\n",
        "    if random.random() < mutation_rate:\n",
        "        return x + random.uniform(-1, 1)  # Simple mutation\n",
        "    return x\n",
        "\n",
        "def genetic_algorithm(population_size, generations, mutation_rate, lower_bound, upper_bound):\n",
        "    population = initialize_population(population_size, lower_bound, upper_bound)\n",
        "\n",
        "    for generation in range(generations):\n",
        "        new_population = []\n",
        "\n",
        "        for _ in range(population_size):\n",
        "            parent1 = roulette_wheel_selection(population)\n",
        "            parent2 = roulette_wheel_selection(population)\n",
        "            child = crossover(parent1, parent2)\n",
        "            child = mutate(child, mutation_rate)\n",
        "            new_population.append(child)\n",
        "\n",
        "        population = new_population\n",
        "\n",
        "    best_solution = max(population, key=fitness_function)\n",
        "    return best_solution, fitness_function(best_solution)\n",
        "\n",
        "# Parameters\n",
        "population_size = 100\n",
        "generations = 50\n",
        "mutation_rate = 0.1\n",
        "lower_bound = -10\n",
        "upper_bound = 10\n",
        "\n",
        "best_x, best_fitness = genetic_algorithm(population_size, generations, mutation_rate, lower_bound, upper_bound)\n",
        "print(f\"Best solution: x = {best_x}, f(x) = {best_fitness}\")\n"
      ]
    }
  ]
}