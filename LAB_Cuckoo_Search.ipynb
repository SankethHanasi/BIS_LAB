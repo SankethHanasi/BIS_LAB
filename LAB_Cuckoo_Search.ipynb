{
  "nbformat": 4,
  "nbformat_minor": 0,
  "metadata": {
    "colab": {
      "provenance": [],
      "authorship_tag": "ABX9TyPKvOYPOuW3PV5Inlk7UiKK",
      "include_colab_link": true
    },
    "kernelspec": {
      "name": "python3",
      "display_name": "Python 3"
    },
    "language_info": {
      "name": "python"
    }
  },
  "cells": [
    {
      "cell_type": "markdown",
      "metadata": {
        "id": "view-in-github",
        "colab_type": "text"
      },
      "source": [
        "<a href=\"https://colab.research.google.com/github/SankethHanasi/BIS_LAB/blob/main/LAB_Cuckoo_Search.ipynb\" target=\"_parent\"><img src=\"https://colab.research.google.com/assets/colab-badge.svg\" alt=\"Open In Colab\"/></a>"
      ]
    },
    {
      "cell_type": "code",
      "execution_count": 1,
      "metadata": {
        "colab": {
          "base_uri": "https://localhost:8080/"
        },
        "id": "GdMbnRTqrqgF",
        "outputId": "cb84970c-8c79-452f-f56c-323e1bbb7f94"
      },
      "outputs": [
        {
          "output_type": "stream",
          "name": "stdout",
          "text": [
            "Best solution: [-0.1284373  -0.47110441  0.45869406 -0.41459955 -0.0735937 ]\n",
            "Best fitness: 0.6261445738348669\n"
          ]
        }
      ],
      "source": [
        "#1BM22CS242 Cuckoo Search Lab Internals\n",
        "import numpy as np\n",
        "\n",
        "# Objective Function (to be optimized)\n",
        "def objective_function(x):\n",
        "    # Example: simple sum of squares (minimization problem)\n",
        "    return np.sum(x**2)\n",
        "\n",
        "# Generate a random Lévy flight step\n",
        "def levy_flight(D, alpha=1.0):\n",
        "    # Generate random step based on Lévy flight distribution (simplified)\n",
        "    u = np.random.normal(0, 1, D)  # Normal distributed random variable u\n",
        "    v = np.random.normal(0, 1, D)  # Normal distributed random variable v\n",
        "    step = u / (np.abs(v) ** (1 / alpha))  # Lévy flight step\n",
        "    return step\n",
        "\n",
        "# Random initialization of nests in a D-dimensional space\n",
        "def randomly_initialize(N, D, lower_bound, upper_bound):\n",
        "    return np.random.uniform(lower_bound, upper_bound, (N, D))\n",
        "\n",
        "# Evaluate the fitness of each nest\n",
        "def evaluate_fitness(nests, func):\n",
        "    return np.apply_along_axis(func, 1, nests)\n",
        "\n",
        "# Find the index of the nest with the minimum fitness\n",
        "def min_fitness_index(fitness):\n",
        "    return np.argmin(fitness)\n",
        "\n",
        "# Get the worst nests based on fitness\n",
        "def get_worst_nests(fitness, pa, N):\n",
        "    sorted_indices = np.argsort(fitness)\n",
        "    worst_indices = sorted_indices[-int(pa * N):]\n",
        "    return worst_indices\n",
        "\n",
        "# Replace the worst nests with random new nests\n",
        "def replace_worst_nests(nests, worst_nests, N, D, lower_bound, upper_bound):\n",
        "    for i in worst_nests:\n",
        "        nests[i] = np.random.uniform(lower_bound, upper_bound, D)\n",
        "    return nests\n",
        "\n",
        "# Cuckoo Search Algorithm\n",
        "def cuckoo_search(Func, D, N, MaxIter, pa, alpha, lower_bound, upper_bound):\n",
        "    # Initialize nests randomly in D-dimensional space\n",
        "    nests = randomly_initialize(N, D, lower_bound, upper_bound)\n",
        "\n",
        "    # Evaluate fitness of each nest\n",
        "    fitness = evaluate_fitness(nests, Func)\n",
        "\n",
        "    # Find the best nest so far\n",
        "    best_nest = nests[min_fitness_index(fitness)]\n",
        "    best_fitness = np.min(fitness)\n",
        "\n",
        "    # Main optimization loop\n",
        "    for iteration in range(MaxIter):\n",
        "        # Generate new solutions using Lévy flights\n",
        "        for i in range(N):\n",
        "            step_size = alpha * levy_flight(D)\n",
        "            new_nest = nests[i] + step_size\n",
        "            # Ensure the new nest is within bounds\n",
        "            new_nest = np.clip(new_nest, lower_bound, upper_bound)\n",
        "            new_fitness = Func(new_nest)\n",
        "\n",
        "            # If new nest is better, replace it\n",
        "            if new_fitness < fitness[i]:\n",
        "                nests[i] = new_nest\n",
        "                fitness[i] = new_fitness\n",
        "\n",
        "        # Abandon worst nests (replace with random new nests)\n",
        "        worst_nests = get_worst_nests(fitness, pa, N)\n",
        "        nests = replace_worst_nests(nests, worst_nests, N, D, lower_bound, upper_bound)\n",
        "\n",
        "        # Update the best nest if needed\n",
        "        current_best_index = min_fitness_index(fitness)\n",
        "        if fitness[current_best_index] < best_fitness:\n",
        "            best_nest = nests[current_best_index]\n",
        "            best_fitness = fitness[current_best_index]\n",
        "\n",
        "    return best_nest, best_fitness\n",
        "\n",
        "\n",
        "# Example usage\n",
        "if __name__ == \"__main__\":\n",
        "    # Problem Parameters\n",
        "    D = 5  # Dimensionality of the problem\n",
        "    N = 20  # Number of nests\n",
        "    MaxIter = 100  # Maximum number of iterations\n",
        "    pa = 0.25  # Probability of nest abandonment\n",
        "    alpha = 1.0  # Scaling factor for Lévy flight\n",
        "    lower_bound = -10  # Lower bound of the search space\n",
        "    upper_bound = 10  # Upper bound of the search space\n",
        "\n",
        "    # Running Cuckoo Search\n",
        "    best_nest, best_fitness = cuckoo_search(objective_function, D, N, MaxIter, pa, alpha, lower_bound, upper_bound)\n",
        "\n",
        "    print(\"Best solution:\", best_nest)\n",
        "    print(\"Best fitness:\", best_fitness)\n"
      ]
    }
  ]
}