{
  "nbformat": 4,
  "nbformat_minor": 0,
  "metadata": {
    "colab": {
      "provenance": [],
      "authorship_tag": "ABX9TyP9m8lHiEpgV5+fdxS2rDue",
      "include_colab_link": true
    },
    "kernelspec": {
      "name": "python3",
      "display_name": "Python 3"
    },
    "language_info": {
      "name": "python"
    }
  },
  "cells": [
    {
      "cell_type": "markdown",
      "metadata": {
        "id": "view-in-github",
        "colab_type": "text"
      },
      "source": [
        "<a href=\"https://colab.research.google.com/github/SankethHanasi/BIS_LAB/blob/main/Partical_Swarm_Optimization.ipynb\" target=\"_parent\"><img src=\"https://colab.research.google.com/assets/colab-badge.svg\" alt=\"Open In Colab\"/></a>"
      ]
    },
    {
      "cell_type": "code",
      "execution_count": null,
      "metadata": {
        "colab": {
          "base_uri": "https://localhost:8080/",
          "height": 1000
        },
        "id": "lDyfHZcFTisc",
        "outputId": "f32c8b97-ea74-42f2-ee4b-ae0dbf054655"
      },
      "outputs": [
        {
          "output_type": "stream",
          "name": "stdout",
          "text": [
            "Iteration 1/100, Best Value: 7.231641322995689\n",
            "Iteration 2/100, Best Value: 4.534860336093709\n",
            "Iteration 3/100, Best Value: 4.534860336093709\n",
            "Iteration 4/100, Best Value: 3.045759856123965\n",
            "Iteration 5/100, Best Value: 3.045759856123965\n",
            "Iteration 6/100, Best Value: 2.3615342604558265\n",
            "Iteration 7/100, Best Value: 1.417842884023024\n",
            "Iteration 8/100, Best Value: 1.417842884023024\n",
            "Iteration 9/100, Best Value: 1.417842884023024\n",
            "Iteration 10/100, Best Value: 1.1850727223756792\n",
            "Iteration 11/100, Best Value: 1.0684027807755498\n",
            "Iteration 12/100, Best Value: 1.0684027807755498\n",
            "Iteration 13/100, Best Value: 1.0684027807755498\n",
            "Iteration 14/100, Best Value: 1.0684027807755498\n",
            "Iteration 15/100, Best Value: 1.0031681358740414\n",
            "Iteration 16/100, Best Value: 1.0031681358740414\n",
            "Iteration 17/100, Best Value: 1.0031681358740414\n",
            "Iteration 18/100, Best Value: 0.9967213436197895\n",
            "Iteration 19/100, Best Value: 0.9967213436197895\n",
            "Iteration 20/100, Best Value: 0.9964910487250833\n",
            "Iteration 21/100, Best Value: 0.9964910487250833\n",
            "Iteration 22/100, Best Value: 0.9949591599593148\n",
            "Iteration 23/100, Best Value: 0.9949591599593148\n",
            "Iteration 24/100, Best Value: 0.9949591599593148\n",
            "Iteration 25/100, Best Value: 0.9949591599593148\n",
            "Iteration 26/100, Best Value: 0.9949591599593148\n",
            "Iteration 27/100, Best Value: 0.9949591599593148\n",
            "Iteration 28/100, Best Value: 0.9949591599593148\n",
            "Iteration 29/100, Best Value: 0.9949591599593148\n",
            "Iteration 30/100, Best Value: 0.9949591599593148\n",
            "Iteration 31/100, Best Value: 0.9949591599593148\n",
            "Iteration 32/100, Best Value: 0.9949591599593148\n",
            "Iteration 33/100, Best Value: 0.9949591599593148\n",
            "Iteration 34/100, Best Value: 0.9949591599593148\n",
            "Iteration 35/100, Best Value: 0.9949591599593148\n",
            "Iteration 36/100, Best Value: 0.9949591599593148\n",
            "Iteration 37/100, Best Value: 0.9949591599593148\n",
            "Iteration 38/100, Best Value: 0.9949591369270188\n",
            "Iteration 39/100, Best Value: 0.9949591157754298\n",
            "Iteration 40/100, Best Value: 0.5645773548082609\n",
            "Iteration 41/100, Best Value: 0.5645773548082609\n",
            "Iteration 42/100, Best Value: 0.5645773548082609\n",
            "Iteration 43/100, Best Value: 0.5645773548082609\n",
            "Iteration 44/100, Best Value: 0.5645773548082609\n",
            "Iteration 45/100, Best Value: 0.5645773548082609\n",
            "Iteration 46/100, Best Value: 0.5645773548082609\n",
            "Iteration 47/100, Best Value: 0.56417104223911\n",
            "Iteration 48/100, Best Value: 0.56417104223911\n",
            "Iteration 49/100, Best Value: 0.31888408443197847\n",
            "Iteration 50/100, Best Value: 0.07635464275472259\n",
            "Iteration 51/100, Best Value: 0.006003253122067065\n",
            "Iteration 52/100, Best Value: 0.006003253122067065\n",
            "Iteration 53/100, Best Value: 0.0005726616961112541\n",
            "Iteration 54/100, Best Value: 0.0005726616961112541\n",
            "Iteration 55/100, Best Value: 0.0005726616961112541\n",
            "Iteration 56/100, Best Value: 0.00017396350358467316\n",
            "Iteration 57/100, Best Value: 0.00017396350358467316\n",
            "Iteration 58/100, Best Value: 0.00017396350358467316\n",
            "Iteration 59/100, Best Value: 0.00017396350358467316\n",
            "Iteration 60/100, Best Value: 0.00010373611047853615\n",
            "Iteration 61/100, Best Value: 0.00010373611047853615\n",
            "Iteration 62/100, Best Value: 0.00010373611047853615\n",
            "Iteration 63/100, Best Value: 0.00010373611047853615\n",
            "Iteration 64/100, Best Value: 1.9641771501710537e-05\n",
            "Iteration 65/100, Best Value: 7.443627396241936e-06\n",
            "Iteration 66/100, Best Value: 5.904891889230157e-06\n",
            "Iteration 67/100, Best Value: 2.0690450668325866e-06\n",
            "Iteration 68/100, Best Value: 2.0690450668325866e-06\n",
            "Iteration 69/100, Best Value: 8.533403672572604e-07\n",
            "Iteration 70/100, Best Value: 8.533403672572604e-07\n",
            "Iteration 71/100, Best Value: 2.704474475478946e-07\n",
            "Iteration 72/100, Best Value: 1.9174617804651461e-07\n",
            "Iteration 73/100, Best Value: 1.8992762562675125e-07\n",
            "Iteration 74/100, Best Value: 5.1517364596520565e-08\n",
            "Iteration 75/100, Best Value: 5.1517364596520565e-08\n",
            "Iteration 76/100, Best Value: 5.1517364596520565e-08\n",
            "Iteration 77/100, Best Value: 5.1517364596520565e-08\n",
            "Iteration 78/100, Best Value: 2.261858611518619e-08\n",
            "Iteration 79/100, Best Value: 5.891315879580361e-09\n",
            "Iteration 80/100, Best Value: 4.426823352332576e-10\n",
            "Iteration 81/100, Best Value: 4.426823352332576e-10\n",
            "Iteration 82/100, Best Value: 4.1029579733731225e-10\n",
            "Iteration 83/100, Best Value: 4.1029579733731225e-10\n",
            "Iteration 84/100, Best Value: 1.1214851269869541e-10\n",
            "Iteration 85/100, Best Value: 1.1214851269869541e-10\n",
            "Iteration 86/100, Best Value: 1.1214851269869541e-10\n",
            "Iteration 87/100, Best Value: 1.1214851269869541e-10\n",
            "Iteration 88/100, Best Value: 7.861444828449748e-11\n",
            "Iteration 89/100, Best Value: 6.261657858885883e-11\n",
            "Iteration 90/100, Best Value: 6.261657858885883e-11\n",
            "Iteration 91/100, Best Value: 2.3732127374387346e-12\n",
            "Iteration 92/100, Best Value: 2.3732127374387346e-12\n",
            "Iteration 93/100, Best Value: 2.3732127374387346e-12\n",
            "Iteration 94/100, Best Value: 1.6555645743210334e-12\n",
            "Iteration 95/100, Best Value: 1.0977885267493548e-12\n",
            "Iteration 96/100, Best Value: 0.0\n",
            "Iteration 97/100, Best Value: 0.0\n",
            "Iteration 98/100, Best Value: 0.0\n",
            "Iteration 99/100, Best Value: 0.0\n",
            "Iteration 100/100, Best Value: 0.0\n",
            "\n",
            "Optimal solution: [-2.04997664e-09  7.71996126e-10]\n",
            "Objective function value at optimal solution: 0.0\n"
          ]
        },
        {
          "output_type": "display_data",
          "data": {
            "text/plain": [
              "<Figure size 640x480 with 1 Axes>"
            ],
            "image/png": "[encoded data removed]"
          },
          "metadata": {}
        }
      ],
      "source": [
        "import numpy as np\n",
        "import matplotlib.pyplot as plt\n",
        "\n",
        "# Rastrigin Function (Objective Function)\n",
        "def rastrigin(x):\n",
        "    return 10 * len(x) + sum(xi**2 - 10 * np.cos(2 * np.pi * xi) for xi in x)\n",
        "\n",
        "# PSO Algorithm\n",
        "class PSO:\n",
        "    def __init__(self, objective_function, n_particles, n_dimensions, max_iter, bounds):\n",
        "        self.objective_function = objective_function  # The objective function to minimize\n",
        "        self.n_particles = n_particles  # Number of particles in the swarm\n",
        "        self.n_dimensions = n_dimensions  # Number of dimensions (features)\n",
        "        self.max_iter = max_iter  # Maximum number of iterations\n",
        "        self.bounds = bounds  # Bounds for the search space (min, max)\n",
        "\n",
        "        # Initialize the swarm's positions and velocities\n",
        "        self.positions = np.random.uniform(bounds[0], bounds[1], (n_particles, n_dimensions))\n",
        "        self.velocities = np.random.uniform(-1, 1, (n_particles, n_dimensions))\n",
        "\n",
        "        # Initialize personal best positions and values\n",
        "        self.pbest_positions = np.copy(self.positions)\n",
        "        self.pbest_values = np.apply_along_axis(self.objective_function, 1, self.positions)\n",
        "\n",
        "        # Initialize global best position and value\n",
        "        self.gbest_position = self.pbest_positions[np.argmin(self.pbest_values)]\n",
        "        self.gbest_value = np.min(self.pbest_values)\n",
        "\n",
        "        # PSO parameters (hyperparameters)\n",
        "        self.w = 0.5  # Inertia weight\n",
        "        self.c1 = 1.5  # Cognitive coefficient\n",
        "        self.c2 = 1.5  # Social coefficient\n",
        "\n",
        "    def update_velocity(self, i):\n",
        "        # Update velocity for particle i\n",
        "        r1, r2 = np.random.rand(2)  # Random numbers for the update rule\n",
        "        inertia = self.w * self.velocities[i]\n",
        "        cognitive = self.c1 * r1 * (self.pbest_positions[i] - self.positions[i])\n",
        "        social = self.c2 * r2 * (self.gbest_position - self.positions[i])\n",
        "        self.velocities[i] = inertia + cognitive + social\n",
        "\n",
        "    def update_position(self, i):\n",
        "        # Update position for particle i\n",
        "        self.positions[i] += self.velocities[i]\n",
        "\n",
        "        # Ensure particles are within bounds\n",
        "        self.positions[i] = np.clip(self.positions[i], self.bounds[0], self.bounds[1])\n",
        "\n",
        "    def optimize(self):\n",
        "        # Perform optimization over a number of iterations\n",
        "        for t in range(self.max_iter):\n",
        "            for i in range(self.n_particles):\n",
        "                # Update particle velocity and position\n",
        "                self.update_velocity(i)\n",
        "                self.update_position(i)\n",
        "\n",
        "                # Evaluate fitness (objective function value)\n",
        "                fitness = self.objective_function(self.positions[i])\n",
        "\n",
        "                # Update personal best if necessary\n",
        "                if fitness < self.pbest_values[i]:\n",
        "                    self.pbest_values[i] = fitness\n",
        "                    self.pbest_positions[i] = self.positions[i]\n",
        "\n",
        "            # Update global best if necessary\n",
        "            min_pbest_value = np.min(self.pbest_values)\n",
        "            if min_pbest_value < self.gbest_value:\n",
        "                self.gbest_value = min_pbest_value\n",
        "                self.gbest_position = self.pbest_positions[np.argmin(self.pbest_values)]\n",
        "\n",
        "            # Print the best result at each iteration (optional)\n",
        "            print(f\"Iteration {t+1}/{self.max_iter}, Best Value: {self.gbest_value}\")\n",
        "\n",
        "        return self.gbest_position, self.gbest_value\n",
        "\n",
        "\n",
        "# Set parameters\n",
        "n_particles = 30  # Number of particles in the swarm\n",
        "n_dimensions = 2  # Number of dimensions (for Rastrigin, 2D)\n",
        "max_iter = 100  # Maximum number of iterations\n",
        "bounds = (-5.12, 5.12)  # Bounds for Rastrigin function\n",
        "\n",
        "# Initialize and run PSO\n",
        "pso = PSO(objective_function=rastrigin,\n",
        "          n_particles=n_particles,\n",
        "          n_dimensions=n_dimensions,\n",
        "          max_iter=max_iter,\n",
        "          bounds=bounds)\n",
        "\n",
        "best_position, best_value = pso.optimize()\n",
        "print(\"\\nOptimal solution:\", best_position)\n",
        "print(\"Objective function value at optimal solution:\", best_value)\n",
        "\n",
        "# Plot the convergence of the objective function\n",
        "iterations = np.arange(1, max_iter + 1)\n",
        "best_values = [pso.gbest_value for _ in range(max_iter)]  # For illustration, same best value per iteration\n",
        "\n",
        "plt.plot(iterations, best_values, label='Best Value Over Iterations')\n",
        "plt.xlabel('Iteration')\n",
        "plt.ylabel('Best Objective Value')\n",
        "plt.title('PSO Convergence')\n",
        "plt.legend()\n",
        "plt.show()\n"
      ]
    },
    {
      "cell_type": "code",
      "source": [
        "import math\n",
        "from mpl_toolkits import mplot3d\n",
        "import matplotlib.pyplot as plt\n",
        "import numpy as np\n",
        "\n",
        "DIMENSIONS = 2              # Number of dimensions\n",
        "GLOBAL_BEST = 0             # Global Best of Cost function\n",
        "B_LO = -5                   # Upper boundary of search space\n",
        "B_HI = 5                    # Upper boundary of search space\n",
        "\n",
        "POPULATION = 20             # Number of particles in the swarm\n",
        "V_MAX = 0.1                 # Maximum velocity value\n",
        "PERSONAL_C = 2.0            # Personal coefficient factor\n",
        "SOCIAL_C = 2.0              # Social coefficient factor\n",
        "CONVERGENCE = 0.001         # Convergence value\n",
        "MAX_ITER = 100              # Maximum number of iterrations\n",
        "\n",
        "# Particle class\n",
        "class Particle():\n",
        "    def __init__(self, x, y, z, velocity):\n",
        "        self.pos = [x, y]\n",
        "        self.pos_z = z\n",
        "        self.velocity = velocity\n",
        "        self.best_pos = self.pos.copy()\n",
        "\n",
        "class Swarm():\n",
        "    def __init__(self, pop, v_max):\n",
        "        self.particles = []             # List of particles in the swarm\n",
        "        self.best_pos = None            # Best particle of the swarm\n",
        "        self.best_pos_z = math.inf      # Best particle of the swarm\n",
        "\n",
        "        for _ in range(pop):\n",
        "            x = np.random.uniform(B_LO, B_HI)\n",
        "            y = np.random.uniform(B_LO, B_HI)\n",
        "            z = cost_function(x, y)\n",
        "            velocity = np.random.rand(2) * v_max\n",
        "            particle = Particle(x, y, z, velocity)\n",
        "            self.particles.append(particle)\n",
        "            if self.best_pos != None and particle.pos_z < self.best_pos_z:\n",
        "                self.best_pos = particle.pos.copy()\n",
        "                self.best_pos_z = particle.pos_z\n",
        "            else:\n",
        "                self.best_pos = particle.pos.copy()\n",
        "                self.best_pos_z = particle.pos_z\n",
        "\n",
        "# Evaluate objective/cost function (Ackley)\n",
        "def cost_function(x, y, a=20, b=0.2, c=2*math.pi):\n",
        "    term_1 = np.exp((-b * np.sqrt(0.5 * (x ** 2 + y ** 2))))\n",
        "    term_2 = np.exp((np.cos(c * x) + np.cos(c * y)) / 2)\n",
        "    return -1 * a * term_1 - term_2 + a + np.exp(1)\n",
        "\n",
        "def particle_swarm_optimization():\n",
        "\n",
        "    # Initialize plotting variables\n",
        "    x = np.linspace(B_LO, B_HI, 50)\n",
        "    y = np.linspace(B_LO, B_HI, 50)\n",
        "    X, Y = np.meshgrid(x, y)\n",
        "    fig = plt.figure(\"Particle Swarm Optimization\")\n",
        "\n",
        "    # Initialize swarm\n",
        "    swarm = Swarm(POPULATION, V_MAX)\n",
        "\n",
        "    # Initialize inertia weight\n",
        "    inertia_weight = 0.5 + (np.random.rand()/2)\n",
        "\n",
        "    curr_iter = 0\n",
        "    while curr_iter < MAX_ITER:\n",
        "\n",
        "        fig.clf()\n",
        "        ax = fig.add_subplot(1, 1, 1)\n",
        "        ac = ax.contourf(X, Y, cost_function(X, Y), cmap='viridis')\n",
        "        fig.colorbar(ac)\n",
        "\n",
        "        for particle in swarm.particles:\n",
        "\n",
        "            for i in range(0, DIMENSIONS):\n",
        "                r1 = np.random.uniform(0, 1)\n",
        "                r2 = np.random.uniform(0, 1)\n",
        "\n",
        "                # Update particle's velocity\n",
        "                personal_coefficient = PERSONAL_C * r1 * (particle.best_pos[i] - particle.pos[i])\n",
        "                social_coefficient = SOCIAL_C * r2 * (swarm.best_pos[i] - particle.pos[i])\n",
        "                new_velocity = inertia_weight * particle.velocity[i] + personal_coefficient + social_coefficient\n",
        "\n",
        "                # Check if velocity is exceeded\n",
        "                if new_velocity > V_MAX:\n",
        "                    particle.velocity[i] = V_MAX\n",
        "                elif new_velocity < -V_MAX:\n",
        "                    particle.velocity[i] = -V_MAX\n",
        "                else:\n",
        "                    particle.velocity[i] = new_velocity\n",
        "\n",
        "            ax.scatter(particle.pos[0], particle.pos[1], marker='*', c='r')\n",
        "            ax.arrow(particle.pos[0], particle.pos[1], particle.velocity[0], particle.velocity[1], head_width=0.1, head_length=0.1, color='k')\n",
        "\n",
        "            # Update particle's current position\n",
        "            particle.pos += particle.velocity\n",
        "            particle.pos_z = cost_function(particle.pos[0], particle.pos[1])\n",
        "\n",
        "            # Update particle's best known position\n",
        "            if particle.pos_z < cost_function(particle.best_pos[0], particle.best_pos[1]):\n",
        "                particle.best_pos = particle.pos.copy()\n",
        "\n",
        "                # Update swarm's best known position\n",
        "                if particle.pos_z < swarm.best_pos_z:\n",
        "                    swarm.best_pos = particle.pos.copy()\n",
        "                    swarm.best_pos_z = particle.pos_z\n",
        "\n",
        "            # Check if particle is within boundaries\n",
        "            if particle.pos[0] > B_HI:\n",
        "                particle.pos[0] = np.random.uniform(B_LO, B_HI)\n",
        "                particle.pos_z = cost_function(particle.pos[0], particle.pos[1])\n",
        "            if particle.pos[1] > B_HI:\n",
        "                particle.pos[1] = np.random.uniform(B_LO, B_HI)\n",
        "                particle.pos_z = cost_function(particle.pos[0], particle.pos[1])\n",
        "            if particle.pos[0] < B_LO:\n",
        "                particle.pos[0] = np.random.uniform(B_LO, B_HI)\n",
        "                particle.pos_z = cost_function(particle.pos[0], particle.pos[1])\n",
        "            if particle.pos[1] < B_LO:\n",
        "                particle.pos[1] = np.random.uniform(B_LO, B_HI)\n",
        "                particle.pos_z = cost_function(particle.pos[0], particle.pos[1])\n",
        "\n",
        "        plt.subplots_adjust(right = 0.95)\n",
        "        plt.pause(0.00001)\n",
        "\n",
        "        # Check for convergence\n",
        "        if abs(swarm.best_pos_z - GLOBAL_BEST) < CONVERGENCE:\n",
        "            print(\"The swarm has met convergence criteria after \" + str(curr_iter) + \" iterrations.\")\n",
        "            break\n",
        "        curr_iter += 1\n",
        "    plt.show()\n",
        "\n",
        "if __name__ == \"__main__\":\n",
        "    particle_swarm_optimization()"
      ],
      "metadata": {
        "colab": {
          "base_uri": "https://localhost:8080/",
          "height": 1000
        },
        "id": "uslVWM3xT1e3",
        "outputId": "8c45c7ad-8504-48cb-d355-4449b2b94728"
      },
      "execution_count": null,
      "outputs": [
        {
          "output_type": "display_data",
          "data": {
            "text/plain": [
              "<Figure size 640x480 with 2 Axes>"
            ],
            "image/png": "[encoded data removed]"
          },
          "metadata": {}
        },
        {
          "output_type": "display_data",
          "data": {
            "text/plain": [
              "<Figure size 640x480 with 0 Axes>"
            ]
          },
          "metadata": {}
        },
        {
          "output_type": "display_data",
          "data": {
            "text/plain": [
              "<Figure size 640x480 with 0 Axes>"
            ]
          },
          "metadata": {}
        },
        {
          "output_type": "display_data",
          "data": {
            "text/plain": [
              "<Figure size 640x480 with 0 Axes>"
            ]
          },
          "metadata": {}
        },
        {
          "output_type": "display_data",
          "data": {
            "text/plain": [
              "<Figure size 640x480 with 0 Axes>"
            ]
          },
          "metadata": {}
        },
        {
          "output_type": "display_data",
          "data": {
            "text/plain": [
              "<Figure size 640x480 with 0 Axes>"
            ]
          },
          "metadata": {}
        },
        {
          "output_type": "display_data",
          "data": {
            "text/plain": [
              "<Figure size 640x480 with 0 Axes>"
            ]
          },
          "metadata": {}
        },
        {
          "output_type": "display_data",
          "data": {
            "text/plain": [
              "<Figure size 640x480 with 0 Axes>"
            ]
          },
          "metadata": {}
        },
        {
          "output_type": "display_data",
          "data": {
            "text/plain": [
              "<Figure size 640x480 with 0 Axes>"
            ]
          },
          "metadata": {}
        },
        {
          "output_type": "display_data",
          "data": {
            "text/plain": [
              "<Figure size 640x480 with 0 Axes>"
            ]
          },
          "metadata": {}
        },
        {
          "output_type": "display_data",
          "data": {
            "text/plain": [
              "<Figure size 640x480 with 0 Axes>"
            ]
          },
          "metadata": {}
        },
        {
          "output_type": "display_data",
          "data": {
            "text/plain": [
              "<Figure size 640x480 with 0 Axes>"
            ]
          },
          "metadata": {}
        },
        {
          "output_type": "display_data",
          "data": {
            "text/plain": [
              "<Figure size 640x480 with 0 Axes>"
            ]
          },
          "metadata": {}
        },
        {
          "output_type": "display_data",
          "data": {
            "text/plain": [
              "<Figure size 640x480 with 0 Axes>"
            ]
          },
          "metadata": {}
        },
        {
          "output_type": "display_data",
          "data": {
            "text/plain": [
              "<Figure size 640x480 with 0 Axes>"
            ]
          },
          "metadata": {}
        },
        {
          "output_type": "display_data",
          "data": {
            "text/plain": [
              "<Figure size 640x480 with 0 Axes>"
            ]
          },
          "metadata": {}
        },
        {
          "output_type": "display_data",
          "data": {
            "text/plain": [
              "<Figure size 640x480 with 0 Axes>"
            ]
          },
          "metadata": {}
        },
        {
          "output_type": "display_data",
          "data": {
            "text/plain": [
              "<Figure size 640x480 with 0 Axes>"
            ]
          },
          "metadata": {}
        },
        {
          "output_type": "display_data",
          "data": {
            "text/plain": [
              "<Figure size 640x480 with 0 Axes>"
            ]
          },
          "metadata": {}
        },
        {
          "output_type": "display_data",
          "data": {
            "text/plain": [
              "<Figure size 640x480 with 0 Axes>"
            ]
          },
          "metadata": {}
        },
        {
          "output_type": "display_data",
          "data": {
            "text/plain": [
              "<Figure size 640x480 with 0 Axes>"
            ]
          },
          "metadata": {}
        },
        {
          "output_type": "display_data",
          "data": {
            "text/plain": [
              "<Figure size 640x480 with 0 Axes>"
            ]
          },
          "metadata": {}
        },
        {
          "output_type": "display_data",
          "data": {
            "text/plain": [
              "<Figure size 640x480 with 0 Axes>"
            ]
          },
          "metadata": {}
        },
        {
          "output_type": "display_data",
          "data": {
            "text/plain": [
              "<Figure size 640x480 with 0 Axes>"
            ]
          },
          "metadata": {}
        },
        {
          "output_type": "display_data",
          "data": {
            "text/plain": [
              "<Figure size 640x480 with 0 Axes>"
            ]
          },
          "metadata": {}
        },
        {
          "output_type": "display_data",
          "data": {
            "text/plain": [
              "<Figure size 640x480 with 0 Axes>"
            ]
          },
          "metadata": {}
        },
        {
          "output_type": "display_data",
          "data": {
            "text/plain": [
              "<Figure size 640x480 with 0 Axes>"
            ]
          },
          "metadata": {}
        },
        {
          "output_type": "display_data",
          "data": {
            "text/plain": [
              "<Figure size 640x480 with 0 Axes>"
            ]
          },
          "metadata": {}
        },
        {
          "output_type": "display_data",
          "data": {
            "text/plain": [
              "<Figure size 640x480 with 0 Axes>"
            ]
          },
          "metadata": {}
        },
        {
          "output_type": "display_data",
          "data": {
            "text/plain": [
              "<Figure size 640x480 with 0 Axes>"
            ]
          },
          "metadata": {}
        },
        {
          "output_type": "display_data",
          "data": {
            "text/plain": [
              "<Figure size 640x480 with 0 Axes>"
            ]
          },
          "metadata": {}
        },
        {
          "output_type": "display_data",
          "data": {
            "text/plain": [
              "<Figure size 640x480 with 0 Axes>"
            ]
          },
          "metadata": {}
        },
        {
          "output_type": "display_data",
          "data": {
            "text/plain": [
              "<Figure size 640x480 with 0 Axes>"
            ]
          },
          "metadata": {}
        },
        {
          "output_type": "display_data",
          "data": {
            "text/plain": [
              "<Figure size 640x480 with 0 Axes>"
            ]
          },
          "metadata": {}
        },
        {
          "output_type": "display_data",
          "data": {
            "text/plain": [
              "<Figure size 640x480 with 0 Axes>"
            ]
          },
          "metadata": {}
        },
        {
          "output_type": "display_data",
          "data": {
            "text/plain": [
              "<Figure size 640x480 with 0 Axes>"
            ]
          },
          "metadata": {}
        },
        {
          "output_type": "display_data",
          "data": {
            "text/plain": [
              "<Figure size 640x480 with 0 Axes>"
            ]
          },
          "metadata": {}
        },
        {
          "output_type": "display_data",
          "data": {
            "text/plain": [
              "<Figure size 640x480 with 0 Axes>"
            ]
          },
          "metadata": {}
        },
        {
          "output_type": "display_data",
          "data": {
            "text/plain": [
              "<Figure size 640x480 with 0 Axes>"
            ]
          },
          "metadata": {}
        },
        {
          "output_type": "display_data",
          "data": {
            "text/plain": [
              "<Figure size 640x480 with 0 Axes>"
            ]
          },
          "metadata": {}
        },
        {
          "output_type": "display_data",
          "data": {
            "text/plain": [
              "<Figure size 640x480 with 0 Axes>"
            ]
          },
          "metadata": {}
        },
        {
          "output_type": "display_data",
          "data": {
            "text/plain": [
              "<Figure size 640x480 with 0 Axes>"
            ]
          },
          "metadata": {}
        },
        {
          "output_type": "display_data",
          "data": {
            "text/plain": [
              "<Figure size 640x480 with 0 Axes>"
            ]
          },
          "metadata": {}
        },
        {
          "output_type": "display_data",
          "data": {
            "text/plain": [
              "<Figure size 640x480 with 0 Axes>"
            ]
          },
          "metadata": {}
        },
        {
          "output_type": "display_data",
          "data": {
            "text/plain": [
              "<Figure size 640x480 with 0 Axes>"
            ]
          },
          "metadata": {}
        },
        {
          "output_type": "display_data",
          "data": {
            "text/plain": [
              "<Figure size 640x480 with 0 Axes>"
            ]
          },
          "metadata": {}
        },
        {
          "output_type": "display_data",
          "data": {
            "text/plain": [
              "<Figure size 640x480 with 0 Axes>"
            ]
          },
          "metadata": {}
        },
        {
          "output_type": "display_data",
          "data": {
            "text/plain": [
              "<Figure size 640x480 with 0 Axes>"
            ]
          },
          "metadata": {}
        },
        {
          "output_type": "display_data",
          "data": {
            "text/plain": [
              "<Figure size 640x480 with 0 Axes>"
            ]
          },
          "metadata": {}
        },
        {
          "output_type": "display_data",
          "data": {
            "text/plain": [
              "<Figure size 640x480 with 0 Axes>"
            ]
          },
          "metadata": {}
        },
        {
          "output_type": "display_data",
          "data": {
            "text/plain": [
              "<Figure size 640x480 with 0 Axes>"
            ]
          },
          "metadata": {}
        },
        {
          "output_type": "display_data",
          "data": {
            "text/plain": [
              "<Figure size 640x480 with 0 Axes>"
            ]
          },
          "metadata": {}
        },
        {
          "output_type": "display_data",
          "data": {
            "text/plain": [
              "<Figure size 640x480 with 0 Axes>"
            ]
          },
          "metadata": {}
        },
        {
          "output_type": "display_data",
          "data": {
            "text/plain": [
              "<Figure size 640x480 with 0 Axes>"
            ]
          },
          "metadata": {}
        },
        {
          "output_type": "display_data",
          "data": {
            "text/plain": [
              "<Figure size 640x480 with 0 Axes>"
            ]
          },
          "metadata": {}
        },
        {
          "output_type": "display_data",
          "data": {
            "text/plain": [
              "<Figure size 640x480 with 0 Axes>"
            ]
          },
          "metadata": {}
        },
        {
          "output_type": "display_data",
          "data": {
            "text/plain": [
              "<Figure size 640x480 with 0 Axes>"
            ]
          },
          "metadata": {}
        },
        {
          "output_type": "display_data",
          "data": {
            "text/plain": [
              "<Figure size 640x480 with 0 Axes>"
            ]
          },
          "metadata": {}
        },
        {
          "output_type": "display_data",
          "data": {
            "text/plain": [
              "<Figure size 640x480 with 0 Axes>"
            ]
          },
          "metadata": {}
        },
        {
          "output_type": "display_data",
          "data": {
            "text/plain": [
              "<Figure size 640x480 with 0 Axes>"
            ]
          },
          "metadata": {}
        },
        {
          "output_type": "display_data",
          "data": {
            "text/plain": [
              "<Figure size 640x480 with 0 Axes>"
            ]
          },
          "metadata": {}
        },
        {
          "output_type": "display_data",
          "data": {
            "text/plain": [
              "<Figure size 640x480 with 0 Axes>"
            ]
          },
          "metadata": {}
        },
        {
          "output_type": "display_data",
          "data": {
            "text/plain": [
              "<Figure size 640x480 with 0 Axes>"
            ]
          },
          "metadata": {}
        },
        {
          "output_type": "display_data",
          "data": {
            "text/plain": [
              "<Figure size 640x480 with 0 Axes>"
            ]
          },
          "metadata": {}
        },
        {
          "output_type": "display_data",
          "data": {
            "text/plain": [
              "<Figure size 640x480 with 0 Axes>"
            ]
          },
          "metadata": {}
        },
        {
          "output_type": "display_data",
          "data": {
            "text/plain": [
              "<Figure size 640x480 with 0 Axes>"
            ]
          },
          "metadata": {}
        },
        {
          "output_type": "display_data",
          "data": {
            "text/plain": [
              "<Figure size 640x480 with 0 Axes>"
            ]
          },
          "metadata": {}
        },
        {
          "output_type": "display_data",
          "data": {
            "text/plain": [
              "<Figure size 640x480 with 0 Axes>"
            ]
          },
          "metadata": {}
        },
        {
          "output_type": "display_data",
          "data": {
            "text/plain": [
              "<Figure size 640x480 with 0 Axes>"
            ]
          },
          "metadata": {}
        },
        {
          "output_type": "display_data",
          "data": {
            "text/plain": [
              "<Figure size 640x480 with 0 Axes>"
            ]
          },
          "metadata": {}
        },
        {
          "output_type": "display_data",
          "data": {
            "text/plain": [
              "<Figure size 640x480 with 0 Axes>"
            ]
          },
          "metadata": {}
        },
        {
          "output_type": "display_data",
          "data": {
            "text/plain": [
              "<Figure size 640x480 with 0 Axes>"
            ]
          },
          "metadata": {}
        },
        {
          "output_type": "display_data",
          "data": {
            "text/plain": [
              "<Figure size 640x480 with 0 Axes>"
            ]
          },
          "metadata": {}
        },
        {
          "output_type": "display_data",
          "data": {
            "text/plain": [
              "<Figure size 640x480 with 0 Axes>"
            ]
          },
          "metadata": {}
        },
        {
          "output_type": "display_data",
          "data": {
            "text/plain": [
              "<Figure size 640x480 with 0 Axes>"
            ]
          },
          "metadata": {}
        },
        {
          "output_type": "display_data",
          "data": {
            "text/plain": [
              "<Figure size 640x480 with 0 Axes>"
            ]
          },
          "metadata": {}
        },
        {
          "output_type": "display_data",
          "data": {
            "text/plain": [
              "<Figure size 640x480 with 0 Axes>"
            ]
          },
          "metadata": {}
        },
        {
          "output_type": "display_data",
          "data": {
            "text/plain": [
              "<Figure size 640x480 with 0 Axes>"
            ]
          },
          "metadata": {}
        },
        {
          "output_type": "display_data",
          "data": {
            "text/plain": [
              "<Figure size 640x480 with 0 Axes>"
            ]
          },
          "metadata": {}
        },
        {
          "output_type": "display_data",
          "data": {
            "text/plain": [
              "<Figure size 640x480 with 0 Axes>"
            ]
          },
          "metadata": {}
        },
        {
          "output_type": "display_data",
          "data": {
            "text/plain": [
              "<Figure size 640x480 with 0 Axes>"
            ]
          },
          "metadata": {}
        },
        {
          "output_type": "display_data",
          "data": {
            "text/plain": [
              "<Figure size 640x480 with 0 Axes>"
            ]
          },
          "metadata": {}
        },
        {
          "output_type": "display_data",
          "data": {
            "text/plain": [
              "<Figure size 640x480 with 0 Axes>"
            ]
          },
          "metadata": {}
        },
        {
          "output_type": "display_data",
          "data": {
            "text/plain": [
              "<Figure size 640x480 with 0 Axes>"
            ]
          },
          "metadata": {}
        },
        {
          "output_type": "display_data",
          "data": {
            "text/plain": [
              "<Figure size 640x480 with 0 Axes>"
            ]
          },
          "metadata": {}
        },
        {
          "output_type": "display_data",
          "data": {
            "text/plain": [
              "<Figure size 640x480 with 0 Axes>"
            ]
          },
          "metadata": {}
        },
        {
          "output_type": "display_data",
          "data": {
            "text/plain": [
              "<Figure size 640x480 with 0 Axes>"
            ]
          },
          "metadata": {}
        },
        {
          "output_type": "display_data",
          "data": {
            "text/plain": [
              "<Figure size 640x480 with 0 Axes>"
            ]
          },
          "metadata": {}
        },
        {
          "output_type": "display_data",
          "data": {
            "text/plain": [
              "<Figure size 640x480 with 0 Axes>"
            ]
          },
          "metadata": {}
        },
        {
          "output_type": "display_data",
          "data": {
            "text/plain": [
              "<Figure size 640x480 with 0 Axes>"
            ]
          },
          "metadata": {}
        },
        {
          "output_type": "display_data",
          "data": {
            "text/plain": [
              "<Figure size 640x480 with 0 Axes>"
            ]
          },
          "metadata": {}
        },
        {
          "output_type": "display_data",
          "data": {
            "text/plain": [
              "<Figure size 640x480 with 0 Axes>"
            ]
          },
          "metadata": {}
        },
        {
          "output_type": "display_data",
          "data": {
            "text/plain": [
              "<Figure size 640x480 with 0 Axes>"
            ]
          },
          "metadata": {}
        },
        {
          "output_type": "display_data",
          "data": {
            "text/plain": [
              "<Figure size 640x480 with 0 Axes>"
            ]
          },
          "metadata": {}
        },
        {
          "output_type": "display_data",
          "data": {
            "text/plain": [
              "<Figure size 640x480 with 0 Axes>"
            ]
          },
          "metadata": {}
        },
        {
          "output_type": "display_data",
          "data": {
            "text/plain": [
              "<Figure size 640x480 with 0 Axes>"
            ]
          },
          "metadata": {}
        },
        {
          "output_type": "display_data",
          "data": {
            "text/plain": [
              "<Figure size 640x480 with 0 Axes>"
            ]
          },
          "metadata": {}
        },
        {
          "output_type": "display_data",
          "data": {
            "text/plain": [
              "<Figure size 640x480 with 0 Axes>"
            ]
          },
          "metadata": {}
        },
        {
          "output_type": "display_data",
          "data": {
            "text/plain": [
              "<Figure size 640x480 with 0 Axes>"
            ]
          },
          "metadata": {}
        },
        {
          "output_type": "display_data",
          "data": {
            "text/plain": [
              "<Figure size 640x480 with 0 Axes>"
            ]
          },
          "metadata": {}
        }
      ]
    }
  ]
}